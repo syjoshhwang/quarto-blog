{
  "cells": [
    {
      "cell_type": "raw",
      "metadata": {},
      "source": [
        "---\n",
        "title: \"Study Note\"\n",
        "listing:\n",
        "  contents: posts_study\n",
        "  fields: [date, title, description, categories]\n",
        "  sort: \"date desc\"\n",
        "  type: default\n",
        "  categories: true\n",
        "  sort-ui: false\n",
        "  filter-ui: false\n",
        "  page-size: 10\n",
        "page-layout: full\n",
        "title-block-banner: false\n",
        "---"
      ],
      "id": "3415b2ef"
    },
    {
      "cell_type": "markdown",
      "metadata": {},
      "source": [
        "<figure class=\"text-end\">\n",
        "\n",
        "<blockquote class=\"blockquote\">\n",
        "\n",
        "<p>\"If you cannot explain something in simple terms, you don't understand it. The best way to learn is to teach.\"</p>\n",
        "\n",
        "<figcaption class=\"blockquote-footer\">\n",
        "\n",
        "[Richard Feynman](https://en.wikiquote.org/wiki/Richard_Feynman)\n",
        "\n",
        "</figcaption>\n",
        "\n",
        "</blockquote>\n",
        "\n",
        "</figure>\n",
        "\n",
        "   \n",
        "\n",
        "<figure class=\"text-end\">\n",
        "\n",
        "<blockquote class=\"blockquote\">\n",
        "\n",
        "\n",
        "```{If you cannot explain something in simple terms, you don't understand it. The best way to learn is to teach.}\n",
        "```\n",
        "\n",
        "\n",
        "</blockquote>\n",
        "\n",
        "</figure>\n",
        "\n",
        "   \n",
        "\n",
        "<figure class=\"text-end\">\n",
        "\n",
        "<blockquote class=\"blockquote\">\n",
        "\n",
        "    If you cannot explain something in simple terms, you don't understand it. The best way to learn is to teach.\n",
        "\n",
        "</blockquote>\n",
        "\n",
        "<figcaption class=\"blockquote-footer\">\n",
        "\n",
        "[Richard Feynman](https://en.wikiquote.org/wiki/Richard_Feynman)\n",
        "\n",
        "</figcaption>\n",
        "\n",
        "</figure>\n"
      ],
      "id": "f39835b0"
    }
  ],
  "metadata": {
    "kernelspec": {
      "display_name": "Python 3",
      "language": "python",
      "name": "python3"
    }
  },
  "nbformat": 4,
  "nbformat_minor": 5
}